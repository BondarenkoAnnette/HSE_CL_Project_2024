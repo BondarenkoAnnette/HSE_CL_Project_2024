{
 "cells": [
  {
   "cell_type": "markdown",
   "id": "1d58b434-aa7f-4870-a4b3-d310e766aca3",
   "metadata": {},
   "source": [
    "Topic modeling with Top2Vec"
   ]
  },
  {
   "cell_type": "code",
   "execution_count": 217,
   "id": "04db01c8",
   "metadata": {},
   "outputs": [
    {
     "name": "stderr",
     "output_type": "stream",
     "text": [
      "C:\\Users\\kayir\\anaconda3\\envs\\top2vec\\lib\\site-packages\\datasets\\load.py:2516: FutureWarning: 'ignore_verifications' was deprecated in favor of 'verification_mode' in version 2.9.1 and will be removed in 3.0.0.\n",
      "You can remove this warning by passing 'verification_mode=no_checks' instead.\n",
      "  warnings.warn(\n"
     ]
    }
   ],
   "source": [
    "from datasets import load_dataset\n",
    "\n",
    "dataset = load_dataset(\"cnn_dailymail\", '3.0.0', ignore_verifications=True)"
   ]
  },
  {
   "cell_type": "code",
   "execution_count": 218,
   "id": "f4c211dc",
   "metadata": {},
   "outputs": [
    {
     "data": {
      "text/plain": [
       "['train', 'validation', 'test']"
      ]
     },
     "execution_count": 218,
     "metadata": {},
     "output_type": "execute_result"
    }
   ],
   "source": [
    "from datasets import get_dataset_split_names\n",
    "get_dataset_split_names(\"cnn_dailymail\", '3.0.0')"
   ]
  },
  {
   "cell_type": "code",
   "execution_count": 219,
   "id": "5ff0d7a2",
   "metadata": {},
   "outputs": [
    {
     "name": "stderr",
     "output_type": "stream",
     "text": [
      "[nltk_data] Downloading package punkt to\n",
      "[nltk_data]     C:\\Users\\kayir\\AppData\\Roaming\\nltk_data...\n",
      "[nltk_data]   Package punkt is already up-to-date!\n",
      "[nltk_data] Downloading package universal_tagset to\n",
      "[nltk_data]     C:\\Users\\kayir\\AppData\\Roaming\\nltk_data...\n",
      "[nltk_data]   Package universal_tagset is already up-to-date!\n",
      "[nltk_data] Downloading package averaged_perceptron_tagger to\n",
      "[nltk_data]     C:\\Users\\kayir\\AppData\\Roaming\\nltk_data...\n",
      "[nltk_data]   Package averaged_perceptron_tagger is already up-to-\n",
      "[nltk_data]       date!\n"
     ]
    }
   ],
   "source": [
    "import pandas as pd\n",
    "\n",
    "import re\n",
    "\n",
    "import nltk\n",
    "nltk.download('punkt')\n",
    "from nltk.tokenize import word_tokenize\n",
    "nltk.download('universal_tagset')\n",
    "nltk.download('averaged_perceptron_tagger')\n",
    "from nltk.corpus import stopwords\n",
    "\n",
    "import spacy\n",
    "nlp = spacy.load(\"en_core_web_sm\")\n",
    "lemmatizer = nlp.get_pipe(\"lemmatizer\")\n",
    "\n",
    "import random"
   ]
  },
  {
   "cell_type": "code",
   "execution_count": 220,
   "id": "03c72284",
   "metadata": {},
   "outputs": [],
   "source": [
    "dataset = load_dataset(\"cnn_dailymail\", '3.0.0', split=\"train\")\n"
   ]
  },
  {
   "cell_type": "code",
   "execution_count": 221,
   "id": "bc37079d",
   "metadata": {},
   "outputs": [],
   "source": [
    "dataframe = pd.DataFrame(dataset)\n",
    "df = dataframe.loc[0:9999]"
   ]
  },
  {
   "cell_type": "code",
   "execution_count": 222,
   "id": "7f81f6da",
   "metadata": {
    "scrolled": true
   },
   "outputs": [],
   "source": [
    "articles = df[\"article\"].tolist()"
   ]
  },
  {
   "cell_type": "code",
   "execution_count": null,
   "id": "010cdc5d",
   "metadata": {
    "scrolled": true
   },
   "outputs": [],
   "source": [
    "model = Top2Vec(articles)"
   ]
  },
  {
   "cell_type": "code",
   "execution_count": null,
   "id": "ade4cab0-029e-434c-bcaf-e3d74c3ada51",
   "metadata": {},
   "outputs": [],
   "source": [
    "model.save(\"mymodel\")"
   ]
  },
  {
   "cell_type": "code",
   "execution_count": null,
   "id": "d98eafbb-1e8d-4b89-ad6e-abc0cc0c98aa",
   "metadata": {
    "scrolled": true
   },
   "outputs": [],
   "source": [
    "topic_sizes, topic_nums = model.get_topic_sizes()\n",
    "print(topic_sizes)\n",
    "#список всех тем - тема с индексом 0 самая популярная и по ней есть 313 документов"
   ]
  },
  {
   "cell_type": "code",
   "execution_count": null,
   "id": "1ab4ea93-700a-462a-9ebd-ecf334f4adc9",
   "metadata": {
    "scrolled": true
   },
   "outputs": [],
   "source": [
    "print(topic_nums)\n",
    "#в модели 115 разныx тем"
   ]
  },
  {
   "cell_type": "code",
   "execution_count": null,
   "id": "376e4721-4949-4f06-b97a-a12663d40651",
   "metadata": {},
   "outputs": [],
   "source": [
    "topic_words, word_scores, topic_nums = model.get_topics(10)"
   ]
  },
  {
   "cell_type": "code",
   "execution_count": null,
   "id": "048ca28c-edce-4adf-9083-9019e59266df",
   "metadata": {
    "scrolled": true
   },
   "outputs": [],
   "source": [
    "for words, scores, num in zip(topic_words, word_scores, topic_nums):\n",
    "    print(num)\n",
    "    print(f\"Words: {words}\")"
   ]
  },
  {
   "cell_type": "code",
   "execution_count": null,
   "id": "b89c6d1f-ae41-4731-b22f-2ba0089069b5",
   "metadata": {
    "scrolled": true
   },
   "outputs": [],
   "source": [
    "#ПОИСК ТЕМ ПО КЛЮЧЕВОМУ СЛОВУ\n",
    "topic_words, word_scores, topic_scores, topic_nums = model.search_topics(keywords=[\"music\"], num_topics=5)\n",
    "print(topic_nums)\n",
    "print(topic_scores)"
   ]
  },
  {
   "cell_type": "code",
   "execution_count": null,
   "id": "78046155-90c5-40da-8ad3-75ec04b68fd6",
   "metadata": {
    "scrolled": true
   },
   "outputs": [],
   "source": [
    "#ПОСМОТРЕТЬ ДОКУМЕНТЫ ПО ТЕМЕ, ЗНАЯ ЕЕ НОМЕР\n",
    "documents, document_scores, document_ids = model.search_documents_by_topic(topic_num = 19, num_docs = 5)\n",
    "for doc, score, doc_id in zip(documents, document_scores, document_ids):\n",
    "    print(f\"Document:{doc_id}, Score: {score}\")\n",
    "    print(\"----------\")\n",
    "    print(doc)\n",
    "    print(\"----------\")\n",
    "    print()"
   ]
  },
  {
   "cell_type": "code",
   "execution_count": null,
   "id": "bd5e8511-6958-4225-a76d-9d8aee65b0b3",
   "metadata": {
    "scrolled": true
   },
   "outputs": [],
   "source": [
    "#ЗАПИСАТЬ РЕЗУЛЬТАТЫ В ДАТАФРЕЙМ\n",
    "topic_of_interest = 5\n",
    "topic_sizes, topic_nums = model.get_topic_sizes()\n",
    "documents, document_scores, document_ids = model.search_documents_by_topic(topic_num=topic_of_interest, num_docs=topic_sizes[topic_of_interest])\n",
    "\n",
    "results = list(zip(documents, document_scores, document_ids))\n",
    "results_df = pd.DataFrame(results, columns = ['documents', 'document_scores', 'document_ids'])\n",
    "results_df = results_df.drop_duplicates(subset=\"documents\", keep='first')\n",
    "results_df"
   ]
  },
  {
   "cell_type": "code",
   "execution_count": null,
   "id": "55b90b26-7846-4e72-b196-ddf5bf693b06",
   "metadata": {},
   "outputs": [],
   "source": [
    "#ОБЛАКА СЛОВ\n",
    "for topic in topic_nums:\n",
    "    model.generate_topic_wordcloud(topic)"
   ]
  },
  {
   "cell_type": "code",
   "execution_count": null,
   "id": "7ca2902f-23db-407f-bbc3-1aee34c32a59",
   "metadata": {},
   "outputs": [],
   "source": [
    "#ПОИСК ДОКУМЕНТОВ ПО КЛЮЧЕВЫМ СЛОВАМ\n",
    "documents, document_scores, document_ids = model.search_documents_by_keywords(keywords=[\"healthcare\",\"cure\"], num_docs=5)\n",
    "for doc, score, doc_id in zip(documents, document_scores, document_ids):\n",
    "    print(f\"Document: {doc_id}, Score: {score}\")\n",
    "    print(\"-----------\")\n",
    "    print(doc)\n",
    "    print(\"-----------\")\n",
    "    print()"
   ]
  },
  {
   "cell_type": "markdown",
   "id": "8805b0c9-267e-4174-8c3a-d40a78fb3ef0",
   "metadata": {},
   "source": [
    "Далее идет создание упражнений"
   ]
  },
  {
   "cell_type": "code",
   "execution_count": 252,
   "id": "e94b8b81-1562-4a9e-ad2a-bba87ea0a6bf",
   "metadata": {},
   "outputs": [],
   "source": [
    "#функция для создания упражнения \n",
    "def exercise(text):\n",
    "    \n",
    "    doc = nlp(text)\n",
    "    verbs = [] \n",
    "    for token in doc:\n",
    "        if token.pos_ == \"VERB\":\n",
    "            verbs.append(token)\n",
    "\n",
    "    verb_lemmas = []\n",
    "    for token in doc:\n",
    "        if token.pos_ == \"VERB\":\n",
    "            verb_lemma = token.lemma_\n",
    "            verb_lemmas.append(verb_lemma)\n",
    "        \n",
    "    new_text = text\n",
    "    for verb in verbs: #собственно цикл, убирающий из оригинального текста глаголы и заменяющий их на пробелы\n",
    "       reg_exp = fr\"\\s{verb}\\s\"\n",
    "       new_text = re.sub(reg_exp, \" ___ \", new_text)\n",
    "    \n",
    "    str = \"Fill in the gaps with the verbs in the correct form:\"\n",
    "\n",
    "    return(str, verb_lemmas, new_text)"
   ]
  },
  {
   "cell_type": "code",
   "execution_count": 253,
   "id": "b28ef737-76a9-4497-b0cb-2c4ed958de9e",
   "metadata": {},
   "outputs": [
    {
     "name": "stdout",
     "output_type": "stream",
     "text": [
      "('Fill in the gaps with the verbs in the correct form:', ['gain', 'report', 'turn', 'insist', 'cast', 'say', 'have', 'fritter', 'plan', 'turn', 'buy', 'tell', 'think', 'like', 'cost', 'gamble', 'buy', 'see', 'mark', 'have', 'have', 'say', 'read', 'hold', 'touch', 'grow', 'say', 'keep', 'look', 'say', 'go', 'tell', 'try', 'go', 'wizard', 'break', 'reprise', 'give', 'be', 'film', 'call', 'appear', 'escape', 'make', 'play', 'torture', 'brace', 'think', 'go', 'tell', 'reserve', 'publish', 'broadcast', 'rewrite', 'redistribute'], 'LONDON, England (Reuters) -- Harry Potter star Daniel Radcliffe ___ access to a ___ £20 million ($41.1 million) fortune as he ___ 18 on Monday, but he ___ the money won\\'t ___ a spell on him. Daniel Radcliffe as Harry Potter in \"Harry Potter and the Order of the Phoenix\" To the disappointment of gossip columnists around the world, the young actor ___ he ___ no plans to ___ his cash away on fast cars, drink and celebrity parties. \"I don\\'t ___ to be one of those people who, as soon as they ___ 18, suddenly ___ themselves a massive sports car collection or something similar,\" he ___ an Australian interviewer earlier this month. \"I don\\'t ___ I\\'ll be particularly extravagant. \"The things I ___ buying are things that ___ about 10 pounds -- books and CDs and DVDs.\" At 18, Radcliffe will be able to ___ in a casino, ___ a drink in a pub or ___ the horror film \"Hostel: Part II,\" currently six places below his number one movie on the UK box office chart. Details of how he\\'ll ___ his landmark birthday are under wraps. His agent and publicist ___ no comment on his plans. \"I\\'ll definitely ___ some sort of party,\" he ___ in an interview. \"Hopefully none of you will be ___ about it.\" Radcliffe\\'s earnings from the first five Potter films ___ been ___ in a trust fund which he ___ not been able to touch. Despite his ___ fame and riches, the actor ___ he ___ ___ his feet firmly on the ground. \"People are always ___ to ___ \\'kid star ___ off the rails,\\'\" he ___ reporters last month. \"But I ___ very hard not to ___ that way because it would be too easy for them.\" His latest outing as the boy ___ in \"Harry Potter and the Order of the Phoenix\" ___ ___ records on both sides of the Atlantic and he will ___ the role in the last two films.  Watch I-Reporter ___ her review of Potter\\'s latest » . There ___ life beyond Potter, however. The Londoner ___ ___ a TV movie ___ \"My Boy Jack,\" about author Rudyard Kipling and his son, due for release later this year. He will also ___ in \"December Boys,\" an Australian film about four boys who ___ an orphanage. Earlier this year, he ___ his stage debut ___ a ___ teenager in Peter Shaffer\\'s \"Equus.\" Meanwhile, he ___ ___ for even closer media scrutiny now that he\\'s legally an adult: \"I just ___ I\\'m ___ to be more sort of fair game,\" he ___ Reuters. E-mail to a friend . Copyright 2007 Reuters. All rights reserved.This material may not be published, broadcast, rewritten, or redistributed.')\n"
     ]
    }
   ],
   "source": [
    "print(exercise(articles[0]))"
   ]
  },
  {
   "cell_type": "code",
   "execution_count": null,
   "id": "be4be0ba-6b6a-42f8-95f3-85dc5d007a58",
   "metadata": {},
   "outputs": [],
   "source": [
    "#нужно загрузить наши датафреймы и взять из них только элементы из колонки documents \n",
    "education_df = pd.read_csv(r\"https://raw.githubusercontent.com/BondarenkoAnnette/HSE_CL_Project_2024/main/data/education.csv\")\n",
    "education = education_df[\"documents\"].tolist()\n",
    "\n",
    "fashion_df = pd.read_csv(r\"https://raw.githubusercontent.com/BondarenkoAnnette/HSE_CL_Project_2024/main/data/fashion.csv\")\n",
    "fashion = fashion_df[\"documents\"].tolist()\n",
    "\n",
    "food_df = pd.read_csv(r\"https://raw.githubusercontent.com/BondarenkoAnnette/HSE_CL_Project_2024/main/data/food.csv\")\n",
    "food = food_df[\"documents\"].tolist()\n",
    "\n",
    "jobs_df = pd.read_csv(r\"https://raw.githubusercontent.com/BondarenkoAnnette/HSE_CL_Project_2024/main/data/jobs.csv\")\n",
    "jobs = jobs_df[\"documents\"].tolist()\n",
    "\n",
    "health_df = pd.read_csv(r\"https://raw.githubusercontent.com/BondarenkoAnnette/HSE_CL_Project_2024/main/data/health.csv\")\n",
    "health = health_df[\"documents\"].tolist()\n",
    "\n",
    "sport_df = pd.read_csv(r\"https://raw.githubusercontent.com/BondarenkoAnnette/HSE_CL_Project_2024/main/data/sport.csv\")\n",
    "sport = sport_df[\"documents\"].tolist()\n",
    "\n",
    "films_df = pd.read_csv(r\"https://raw.githubusercontent.com/BondarenkoAnnette/HSE_CL_Project_2024/main/data/films.csv\")\n",
    "films = films_df[\"documents\"].tolist()\n",
    "\n",
    "environment_df = pd.read_csv(r\"https://raw.githubusercontent.com/BondarenkoAnnette/HSE_CL_Project_2024/main/data/environment.csv\")\n",
    "environment = environment_df[\"documents\"].tolist()\n",
    "\n",
    "technology_df = pd.read_csv(r\"https://raw.githubusercontent.com/BondarenkoAnnette/HSE_CL_Project_2024/main/data/technology.csv\")\n",
    "technology = technology_df[\"documents\"].tolist()\n",
    "\n",
    "tourism_df = pd.read_csv(r\"https://raw.githubusercontent.com/BondarenkoAnnette/HSE_CL_Project_2024/main/data/tourism.csv\")\n",
    "tourism = tourism_df[\"documents\"].tolist()\n",
    "\n",
    "culture_df = pd.read_csv(r\"https://raw.githubusercontent.com/BondarenkoAnnette/HSE_CL_Project_2024/main/data/culture.csv\")\n",
    "culture = culture_df[\"documents\"].tolist()\n",
    "\n",
    "music_df = pd.read_csv(r\"https://raw.githubusercontent.com/BondarenkoAnnette/HSE_CL_Project_2024/main/data/music.csv\")\n",
    "music = music_df[\"documents\"].tolist()\n",
    "\n",
    "politics_df = pd.read_csv(r\"https://raw.githubusercontent.com/BondarenkoAnnette/HSE_CL_Project_2024/main/data/politics.csv\")\n",
    "politics = politics_df[\"documents\"].tolist()"
   ]
  },
  {
   "cell_type": "code",
   "execution_count": null,
   "id": "63d1a556-4407-4048-b5bd-ff0f08d53e23",
   "metadata": {},
   "outputs": [],
   "source": [
    "topics = [politics, music, films, sport, culture, technology, environment, health, jobs, food, fashion, education]\n",
    "\n",
    "strings = [\"politics\", \"music\", \"films\", \"sport\", \"culture\", \"technology\", \"environment\", \"health\", \"jobs\", \"food\", \"fashion\", \"education\"]"
   ]
  },
  {
   "cell_type": "code",
   "execution_count": null,
   "id": "934888b9-57e8-4fdd-8663-0eda5963f717",
   "metadata": {},
   "outputs": [],
   "source": [
    "print(\"Choose one of the following topics for your exercise:\")\n",
    "print(\"politics, music, films, sport, culture, technology, environment, health, jobs, food, fashion, education\")\n",
    "\n",
    "selected_topic = input() \n",
    "\n",
    "def checking(selected_topic):\n",
    "    for i in range(0,12):\n",
    "        if selected_topic == strings[i]:\n",
    "            topic_list = topics[i]\n",
    "            random_article = random.choice(topic_list)\n",
    "            ex = exercise(random_article)\n",
    "            answer = input(\"Do you want to see the article?\")\n",
    "            if answer == \"yes\":\n",
    "                return ex, random_article\n",
    "            else:\n",
    "                return ex\n",
    "\n",
    "print(checking(selected_topic))"
   ]
  }
 ],
 "metadata": {
  "kernelspec": {
   "display_name": "Python 3 (ipykernel)",
   "language": "python",
   "name": "python3"
  },
  "language_info": {
   "codemirror_mode": {
    "name": "ipython",
    "version": 3
   },
   "file_extension": ".py",
   "mimetype": "text/x-python",
   "name": "python",
   "nbconvert_exporter": "python",
   "pygments_lexer": "ipython3",
   "version": "3.9.18"
  }
 },
 "nbformat": 4,
 "nbformat_minor": 5
}
