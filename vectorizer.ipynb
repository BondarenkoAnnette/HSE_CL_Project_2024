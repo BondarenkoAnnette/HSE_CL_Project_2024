{
 "cells": [
  {
   "cell_type": "code",
   "execution_count": 111,
   "id": "63fdb1b8-d2b8-46ed-b075-b4e0fd87d5cd",
   "metadata": {},
   "outputs": [
    {
     "name": "stderr",
     "output_type": "stream",
     "text": [
      "C:\\Users\\kayir\\anaconda3\\envs\\top2vec\\lib\\site-packages\\datasets\\load.py:2516: FutureWarning: 'ignore_verifications' was deprecated in favor of 'verification_mode' in version 2.9.1 and will be removed in 3.0.0.\n",
      "You can remove this warning by passing 'verification_mode=no_checks' instead.\n",
      "  warnings.warn(\n"
     ]
    },
    {
     "data": {
      "text/plain": [
       "['train', 'validation', 'test']"
      ]
     },
     "execution_count": 111,
     "metadata": {},
     "output_type": "execute_result"
    }
   ],
   "source": [
    "from datasets import load_dataset\n",
    "\n",
    "dataset = load_dataset(\"cnn_dailymail\", '3.0.0', ignore_verifications=True)\n",
    "\n",
    "from datasets import get_dataset_split_names\n",
    "get_dataset_split_names(\"cnn_dailymail\", '3.0.0')"
   ]
  },
  {
   "cell_type": "code",
   "execution_count": 112,
   "id": "da690b62-5db5-4535-b456-8cef0de7c7da",
   "metadata": {},
   "outputs": [
    {
     "name": "stderr",
     "output_type": "stream",
     "text": [
      "[nltk_data] Downloading package punkt to\n",
      "[nltk_data]     C:\\Users\\kayir\\AppData\\Roaming\\nltk_data...\n",
      "[nltk_data]   Package punkt is already up-to-date!\n",
      "[nltk_data] Downloading package universal_tagset to\n",
      "[nltk_data]     C:\\Users\\kayir\\AppData\\Roaming\\nltk_data...\n",
      "[nltk_data]   Package universal_tagset is already up-to-date!\n",
      "[nltk_data] Downloading package averaged_perceptron_tagger to\n",
      "[nltk_data]     C:\\Users\\kayir\\AppData\\Roaming\\nltk_data...\n",
      "[nltk_data]   Package averaged_perceptron_tagger is already up-to-\n",
      "[nltk_data]       date!\n"
     ]
    }
   ],
   "source": [
    "import pandas as pd\n",
    "import re\n",
    "\n",
    "import nltk\n",
    "nltk.download('punkt')\n",
    "from nltk.tokenize import word_tokenize\n",
    "nltk.download('universal_tagset')\n",
    "nltk.download('averaged_perceptron_tagger')\n",
    "from nltk.corpus import stopwords\n",
    "\n",
    "from sklearn.feature_extraction.text import TfidfVectorizer\n",
    "from sklearn.cluster import KMeans\n",
    "from sklearn. metrics import adjusted_rand_score\n",
    "import string"
   ]
  },
  {
   "cell_type": "code",
   "execution_count": 113,
   "id": "23d3b1e0-af27-4051-934e-6b6407fa7268",
   "metadata": {},
   "outputs": [],
   "source": [
    "dataset = load_dataset(\"cnn_dailymail\", '3.0.0', split=\"train\")\n",
    "dataframe = pd.DataFrame(dataset)\n",
    "df = dataframe.loc[0:9999]\n",
    "\n",
    "articles = df[\"article\"].tolist()"
   ]
  },
  {
   "cell_type": "code",
   "execution_count": 114,
   "id": "9838fcdd-bf72-411a-90cb-f6490dd0028a",
   "metadata": {
    "scrolled": true
   },
   "outputs": [
    {
     "name": "stderr",
     "output_type": "stream",
     "text": [
      "IOPub data rate exceeded.\n",
      "The Jupyter server will temporarily stop sending output\n",
      "to the client in order to avoid crashing it.\n",
      "To change this limit, set the config variable\n",
      "`--ServerApp.iopub_data_rate_limit`.\n",
      "\n",
      "Current values:\n",
      "ServerApp.iopub_data_rate_limit=1000000.0 (bytes/sec)\n",
      "ServerApp.rate_limit_window=3.0 (secs)\n",
      "\n"
     ]
    },
    {
     "ename": "TypeError",
     "evalue": "'NoneType' object is not subscriptable",
     "output_type": "error",
     "traceback": [
      "\u001b[1;31m---------------------------------------------------------------------------\u001b[0m",
      "\u001b[1;31mTypeError\u001b[0m                                 Traceback (most recent call last)",
      "Cell \u001b[1;32mIn[114], line 10\u001b[0m\n\u001b[0;32m      8\u001b[0m   text_clean \u001b[38;5;241m=\u001b[39m \u001b[38;5;124m'\u001b[39m\u001b[38;5;124m \u001b[39m\u001b[38;5;124m'\u001b[39m\u001b[38;5;241m.\u001b[39mjoin(text_clean)\n\u001b[0;32m      9\u001b[0m   clean_articles\u001b[38;5;241m.\u001b[39mappend(text_clean)\n\u001b[1;32m---> 10\u001b[0m \u001b[38;5;28;43mprint\u001b[39;49m\u001b[43m(\u001b[49m\u001b[43mclean_articles\u001b[49m\u001b[43m)\u001b[49m\u001b[43m[\u001b[49m\u001b[38;5;241;43m0\u001b[39;49m\u001b[43m:\u001b[49m\u001b[38;5;241;43m10\u001b[39;49m\u001b[43m]\u001b[49m\n",
      "\u001b[1;31mTypeError\u001b[0m: 'NoneType' object is not subscriptable"
     ]
    }
   ],
   "source": [
    "clean_articles = []\n",
    "for article in articles:\n",
    "  text = re.sub(r\"NEW:\", \"\", article)\n",
    "  text = text.lower() # нижний регистр\n",
    "  text_list_nltk = word_tokenize(text) # токенизация\n",
    "  stop_words = stopwords.words('english')\n",
    "  text_clean = [word for word in text_list_nltk if word not in stop_words and word[0].isalpha()] # чистим от стоп-слов и пунктуации\n",
    "  text_clean = ' '.join(text_clean)\n",
    "  clean_articles.append(text_clean)"
   ]
  },
  {
   "cell_type": "code",
   "execution_count": 201,
   "id": "d34dfa04-cecc-4d8c-928b-b6669a5dc245",
   "metadata": {
    "scrolled": true
   },
   "outputs": [
    {
     "name": "stdout",
     "output_type": "stream",
     "text": [
      "[\"london england reuters harry potter star daniel radcliffe gains access reported million million fortune turns monday insists money wo n't cast spell daniel radcliffe harry potter harry potter order phoenix disappointment gossip columnists around world young actor says plans fritter cash away fast cars drink celebrity parties n't plan one people soon turn suddenly buy massive sports car collection something similar told australian interviewer earlier month n't think particularly extravagant things like buying things cost pounds books cds dvds radcliffe able gamble casino buy drink pub see horror film hostel part ii currently six places number one movie uk box office chart details mark landmark birthday wraps agent publicist comment plans definitely sort party said interview hopefully none reading radcliffe earnings first five potter films held trust fund able touch despite growing fame riches actor says keeping feet firmly ground people always looking say star goes rails told reporters last month try hard go way would easy latest outing boy wizard harry potter order phoenix breaking records sides atlantic reprise role last two films watch i-reporter give review potter latest life beyond potter however londoner filmed tv movie called boy jack author rudyard kipling son due release later year also appear december boys australian film four boys escape orphanage earlier year made stage debut playing tortured teenager peter shaffer equus meanwhile braced even closer media scrutiny legally adult think going sort fair game told reuters e-mail friend copyright reuters rights reserved.this material may published broadcast rewritten redistributed\", \"editor note behind scenes series cnn correspondents share experiences covering news analyze stories behind events soledad o'brien takes users inside jail many inmates mentally ill. inmate housed forgotten floor many mentally ill inmates housed miami trial miami florida cnn ninth floor miami-dade pretrial detention facility dubbed forgotten floor inmates severe mental illnesses incarcerated ready appear court often face drug charges charges assaulting officer charges judge steven leifman says usually avoidable felonies says arrests often result confrontations police mentally ill people often wo n't told police arrive scene confrontation seems exacerbate illness become paranoid delusional less likely follow directions according leifman end ninth floor severely mentally disturbed getting real help jail toured jail leifman well known miami advocate justice mentally ill. even though exactly welcomed open arms guards given permission shoot videotape tour floor go inside floor first hard determine people prisoners wearing sleeveless robes imagine cutting holes arms feet heavy wool sleeping bag kind look like designed keep mentally ill patients injuring also shoes laces mattresses leifman says one-third people miami-dade county jails mentally ill. says sheer volume overwhelming system result see ninth floor course jail supposed warm comforting lights glare cells tiny loud see two sometimes three men sometimes robes sometimes naked lying sitting cells son president need get one man shouts absolutely serious convinced help way could reach white house leifman tells prisoner-patients often circulate system occasionally stabilizing mental hospital return jail face charges brutally unjust mind become strong advocate changing things miami meal later talk things got way mental patients leifman says years ago people considered lunatics locked jails even charges considered unfit society years says public outcry mentally ill moved jails hospitals leifman says many mental hospitals horrible shut patients go nowhere streets became many cases homeless says never got treatment leifman says half million people state mental hospitals today number reduced percent people mental hospitals judge says working change starting many inmates would otherwise brought forgotten floor instead sent new mental health facility first step journey toward long-term treatment punishment leifman says complete answer start leifman says best part win-win solution patients win families relieved state saves money simply cycling prisoners leifman justice served e-mail friend\", \"minneapolis minnesota cnn drivers minneapolis bridge collapsed told harrowing tales survival whole bridge one side mississippi completely gave way fell way survivor gary babineau told cnn probably free fall cars water cars fire whole bridge said back injured determined could move around realized school bus right next couple guys went started lifting kids bridge yelling screaming bleeding think broken bones watch driver describe narrow escape home heard disaster dr. john hink emergency room physician jumped car rushed scene minutes arrived south side bridge stood riverbank saw dozens people lying dazed expansive deck middle mississippi river churning fast way getting went north side easier access people ambulances also hard time driving river get closer scene working feverishly volunteers emts officials managed get people ambulances less two hours occasionally pickup truck medic inside would drive get injured person bring back even ground hink told cnn rescue effort controlled organized said opposite lightning-quick collapse could see whole bridge going falling babineau said gave rumble real quick gave way fell completely way ground dust everywhere like everyone saying like movies babineau said rear pickup truck dangling edge broken-off section bridge said several vehicles slid past water stayed car one two seconds saw couple cars fall said stayed car cars quit falling second got real quick ran front truck behind truck hole helped woman bridge wanted bridge ran school bus started grabbing kids handing complete chaos said children crying screaming rescuers set ground told run river bank needed carried injuries see rescuers clamber rubble babineau said rescue training knew moment melissa hughes minneapolis told associated press driving home western edge bridge collapsed know free-fall feeling felt twice hughes said pickup landed top car hurt idea vehicle car told ap really surreal babineau told minneapolis star-tribune way thought dead literally thought dead truck completely face pointed toward ground truck got ripped half folded half ca n't believe alive see hear eyewitness accounts bernie toivonen told cnn american morning vehicle part bridge ended tilted angle knew deck going question thought going die said bridge settled car remained upright put park turned key said alive said e-mail friend\", 'washington cnn doctors removed five small polyps president bush colon saturday none appeared worrisome white house spokesman said polyps removed sent national naval medical center bethesda maryland routine microscopic examination spokesman scott stanzel said results expected two three days small less centimeter half inch diameter said bush good humor stanzel said resume activities camp david procedure vice president dick cheney assumed presidential power bush reclaimed presidential power a.m. two hours doctors used monitored anesthesia care stanzel said president asleep deeply unconscious true general anesthetic spoke first lady laura bush midland texas celebrating mother birthday procedure stanzel said afterward president played scottish terriers barney miss beazley stanzel said planned lunch camp david briefings national security adviser stephen hadley white house chief staff josh bolten planned take bicycle ride saturday afternoon cheney meanwhile spent morning home maryland eastern shore reading playing dogs stanzel said nothing occurred required take official action president bush reclaimed presidential power procedure supervised dr. richard tubb bush physician conducted multidisciplinary team national naval medical center bethesda maryland white house said bush last colonoscopy june abnormalities found white house spokesman tony snow said president doctor recommended repeat procedure five years colonoscopy sensitive test colon cancer rectal cancer polyps small clumps cells become cancerous according mayo clinic small polyps may removed procedure snow said friday bush polyps removed colonoscopies becoming president snow undergoing chemotherapy cancer began colon spread liver watch snow talk bush procedure colon cancer president wants encourage everybody use surveillance snow said american cancer society recommends people without high risk factors symptoms begin getting screened signs colorectal cancer age e-mail friend', 'cnn national football league indefinitely suspended atlanta falcons quarterback michael vick without pay officials league said friday nfl star michael vick set appear court monday judge final say plea deal earlier vick admitted participating dogfighting ring part plea agreement federal prosecutors virginia admitted conduct illegal also cruel reprehensible team nfl nfl fans hurt actions nfl commissioner roger goodell said letter vick goodell said would review status suspension legal proceedings papers filed friday federal court virginia vick also admitted two co-conspirators killed dogs fight well falcons owner arthur blank said vick admissions describe actions incomprehensible unacceptable suspension makes strong statement conduct tarnishes good reputation nfl tolerated said statement watch led vick suspension goodell said falcons could assert claims remedies recover million vick signing bonus million contract signed according associated press vick said would plead guilty one count conspiracy travel interstate commerce aid unlawful activities sponsor dog animal fighting venture plea agreement filed u.s. district court richmond virginia charge punishable five years prison fine full restitution special assessment years supervised release plea deal said federal prosecutors agreed ask low end sentencing guidelines defendant plead guilty defendant fact guilty charged offense plea agreement said additional summary facts signed vick filed agreement vick admitted buying pit bulls property used training fighting dogs statement said bet fights receive money newz kennels operations gambling monies provided vick official summary facts said gambling wins generally split among co-conspirators tony taylor quanis phillips sometimes purnell peace continued vick gamble placing side bets fights vick receive proceeds purses newz kennels vick also agreed collective efforts two others caused deaths least six dogs around april vick peace phillips tested dogs fighting sessions vick property virginia statement said peace phillips vick agreed killing approximately dogs perform well sessions moonlight road dogs killed various methods including hanging drowning vick agrees stipulates dogs died result collective efforts peace phillips vick summary said peace virginia beach virginia phillips atlanta georgia taylor hampton virginia already accepted agreements plead guilty exchange reduced sentences vick scheduled appear monday court expected plead guilty judge see timeline case vick judge case final say plea agreement federal case vick focused interstate conspiracy vick admission involved killing dogs could lead local charges according cnn legal analyst jeffrey toobin sometimes happens often state follow federal prosecution charging crimes exactly behavior toobin said friday risk vick makes admissions federal guilty plea state virginia could say look admitted violating virginia state law well going introduce charge court plea deal vick agreed cooperate investigators provide information may criminal activity testify necessary vick also agreed turn documents submit polygraph tests vick agreed make restitution full amount costs associated dogs held government costs may include limited costs associated care dogs involved case including necessary long-term care and/or humane euthanasia animals prosecutors support animal rights activists asked permission euthanize dogs dogs could serve important evidence cases vick admitted co-conspirators judge henry e. hudson issued order thursday telling u.s. marshals service arrest seize defendant property use discretion whatever means appropriate protect maintain said defendant property judge order vick filing refer approximately pit bull dogs vick indictment last month goodell ordered quarterback report falcons training camp league reviewing case blank told nfl network monday could speculate vick future falcon least seen statement facts case e-mail friend cnn mike phelan contributed report', \"baghdad iraq cnn dressed superman shirt youssif held sister hand friday seemingly unaware millions people across world touched story nearby parents talked new future hope boy potential recovery severe burns youssif holds sister hand friday wearing facial mask often used help burn victims best birthday present iraqi family could ever imagined boy youssif turns next friday happy n't know mother zainab told cnn broad smile across face n't think reaction would big father said roof house cnn called news outpouring support son want thank everyone come forward said knew kindness like wife could n't stop smiling talked tried vain get help son baghdad leaving stone unturned mission help boy many trips ministry health says even put request iraq parliament help family eventually told cnn story youssif grabbed masked men outside home january doused gasoline set fire simply coming forward parents put incredible danger one arrested held accountable youssif case watch cnn arwa damon describe phenomenal outpouring shortly youssif story aired wednesday children burn foundation nonprofit organization based sherman oaks california provides support burn victims locally nationally internationally agreed pay transportation youssif family come united states set fund donations make donation foundation site clicking drop-down menu general donation area marked youssif fund foundation says cover medical costs surgeries youssif housing costs social rehabilitation might needed surgeries performed dr. peter grossman plastic surgeon affiliated grossman burn center donating services youssif cause officials still trying get appropriate visas family travels prepared come set housing situation provide support begin treatment said barbara friedman executive director children burn foundation expect treatment six months year many surgeries added getting absolute best care available youssif parents said know going lengthy difficult process adjusting stay america may easy none matters getting help boy first foremost anything youssif father said pulling son closer child everything mother tried coax youssif talk us day n't want mother says shy outside home biggest obstacle getting visas leave serious security risks face every day hour remain iraq family saw worst humanity january day new hope world partly due tens thousands cnn.com users moved story wanted act cnn iraqi staff central bringing story together also overwhelmed generosity coming people outside border nation largely feels abandoned rest world refreshing realization e-mail friend cnn.com senior producer wayne drash contributed report atlanta\", \"baghdad iraq cnn women afraid ashamed show faces real names used driven sell bodies put food table children little day suha mother three says husband thinks cleaning houses leaves home people n't criticize women talk badly says suha adjusts light colored scarf wears days avoid extremists insist women cover say lost way never ask take path mother three wears light makeup gold pendant iraq around neck unexpected air elegance n't money take kid doctor anything preserve child mother says explaining prostitutes anger frustration rise voice speaks matter else may matter path may mother watch woman describe turning prostitution save child clasped hands clench unclench nervously suha husband thinks cleaning houses goes away karima family start cleaning homes n't making much matter hard worked n't enough says karima clad black adds husband died lung cancer nine months ago left nothing five children ages eldest son could work afraid life let go streets preferring sacrifice risk child solicited first time cleaning office took advantage says softly first rejected realized suha karima clients call couple times week women resort trips market find potential clients flag vehicles prostitution choice iraqi women making survive increasing suha says found friend another friend predicament mine circumstance forced things violence increased cost living lack sort government aid leave women like options according humanitarian workers point population women sell bodies order keep children alive says yanar mohammed head founder organization women freedom iraq taboo one speaking adds huge population women victims war sell bodies souls lost crushes us see work started team women activists team pounds streets baghdad looking victims often humiliated come forward women find hospitals tried commit suicide involved prostitution said basma rahim member mohammed team team aim compile information specific cases present iraq political parties mohammed puts come tell us going rahim tells heartbreaking story one woman found lives room three children sex three children room makes stand separate corners according rahim mohammed women encounter say driven prostitution desperate desire survival dangerously violent unforgiving circumstances iraq took path pleased rahim says karima says sees children food table able convince worth everything children beauty life without live says would never allow daughter would rather marry go karima last happy memory late husband family able shoulder hardships life today iraq together suha says young girl dreamed doctor mom boasting potential career life could n't taken dream like born ever blood says family survive eats away lay pillow brain spinning comes back watching movie e-mail friend\", 'bogota colombia cnn key rebel commander fugitive u.s. drug trafficking indictment killed weekend air attack guerrilla encampment colombian military said monday alleged cocaine trafficker farc rebel tomas medina caracas interpol photo tomas medina caracas known popularly el negro acacio member high command fuerzas armadas revolucionarias de colombia according colombian u.s. officials helped manage group extensive cocaine trafficking network cross-hairs u.s. justice department since charged conspiracy import cocaine united states manufacturing distributing cocaine within colombia fund farc insurgency government u.s. officials alleged medina caracas managed rebel group sales cocaine international drug traffickers turn smuggled united states also indicted united states along two farc commanders november charges conspiring kidnap two u.s. oil workers neighboring venezuela holding one nine months million ransom paid officials said army rapid response force backed elements colombian air force tracked medina caracas farc camp jungle south country bombardment troops occupied camp found dead rebels far along rifles pistols communications equipment four gps systems defense minister juan manuel santos said news conference death negro acacio confirmed various sources including members farc medina caracas commanded farc front southern departments vichada guainia established military wing colombian communist party farc colombia oldest largest capable best-equipped marxist rebel group according u.s. department state e-mail friend journalist fernando ramos contributed report', \"washington cnn white house press secretary tony snow undergoing treatment cancer step post september replaced deputy press secretary dana perino white house announced friday white house press secretary tony snow step post september president bush told reporters friday sadly accept snow resignation flanked snow perino white house press room president spoke warmly departing press secretary joy watch spar bush told reporters watch announcement snow leaving bush said certain two things regard snow battle cancer win bush said solid contributor society turning snow president said love wish best snow speaking bush start daily white house news conference said leaving earn money took big pay cut said left previous jobs anchor political analyst fox news according washington post snow makes white house spokesman family took loan started job loan gone job really dream blast enormous amount fun satisfaction snow said said would continue speak issues would radio tv n't anticipate full-time anchor duties snow said received great satisfaction talking people illness snow cancer diagnosed first time february colon removed six months treatment doctors said cancer remission perino announced march snow cancer recurred doctors removed growth abdomen day sources told cnn two weeks ago snow planning leave job possibly early september bush tapped snow replace scott mcclellan april snow anchor fox news sunday political analyst fox news channel joined also hosted tony snow show fox news radio thursday snow told cnn health improving citing two medical tests month found cancer spread tumors stable growing snow said results mri cat scan new growths health good press secretary whose hair turned gray chemotherapy treatment said black hair expected grow back month also putting weight said returning vacation actually feel good health situation snow said friday see oncologist decide minor forms chemotherapy start maintenance treatment e-mail friend\", \"cnn police fbi agents investigating discovery empty rocket launcher tube front lawn jersey city new jersey home fbi spokesman sean quinn said niranjan desai discovered at4 anti-tank rocket launcher tube one-time-use device lying lawn friday morning police said launcher turned u.s. army officials ordnance company explosive ordnance disposal unit fort monmouth new jersey army officials said launcher longer operable considered hazard public safety police said adding indication launcher fired recently army officials said could determine launcher fired indicated know find came nearest military base fort dix miles jersey city joint terrorism task force division fbi jersey city police investigating origin rocket launcher circumstance led appearance residential property al qaeda n't leave rocket launcher lawn middle-aged ladies said paul cruickshank new york university law school center law security neighbor joe quinn said object lying desai lawn looked military brown handle strap ends open like could shoot something quinn also said device picture soldier feet long army official said device basically shoulder-fired direct-fire weapon used ground targets modern-day bazooka wire-guided according web site globalsecurity.org loaded m136 at4 anti-tank weapon fiberglass-wrapped tube weighs pounds millimeter shaped-charge missile penetrate inches armor maximum feet used discarded e-mail friend cnn carol cratty dugald mcconnell mike mount contributed report\"]\n"
     ]
    }
   ],
   "source": [
    "print(clean_articles[0:10])"
   ]
  },
  {
   "cell_type": "code",
   "execution_count": 202,
   "id": "19266b04-ce8d-4853-8212-97adf0d38bfd",
   "metadata": {},
   "outputs": [],
   "source": [
    "vectorizer = TfidfVectorizer(\n",
    "                                max_features = 100,\n",
    "                                max_df = 0.8,\n",
    "                                min_df = 5,\n",
    "                                ngram_range = (1,3),\n",
    "                                stop_words = \"english\"\n",
    "                            )"
   ]
  },
  {
   "cell_type": "code",
   "execution_count": 203,
   "id": "c74f7d8a-f42a-462c-acf8-d99667f7b656",
   "metadata": {},
   "outputs": [],
   "source": [
    "vectors = vectorizer.fit_transform(clean_articles)"
   ]
  },
  {
   "cell_type": "code",
   "execution_count": 119,
   "id": "ecc18f6a-a6d1-4546-9076-f4e7f37838cd",
   "metadata": {},
   "outputs": [],
   "source": [
    "feature_names = vectorizer.get_feature_names_out()\n",
    "\n",
    "dense = vectors.todense()\n",
    "denselist = dense.tolist()\n",
    "\n",
    "all_keywords = []\n",
    "\n",
    "for description in denselist:\n",
    "    x = 0\n",
    "    keywords = []\n",
    "    for word in description:\n",
    "        if word > 0:\n",
    "            keywords.append(feature_names[x])\n",
    "        x += 1\n",
    "    all_keywords.append(keywords)\n"
   ]
  },
  {
   "cell_type": "code",
   "execution_count": 204,
   "id": "83679ae9-2543-4062-a674-39112555191a",
   "metadata": {},
   "outputs": [
    {
     "name": "stdout",
     "output_type": "stream",
     "text": [
      "london england reuters harry potter star daniel radcliffe gains access reported million million fortune turns monday insists money wo n't cast spell daniel radcliffe harry potter harry potter order phoenix disappointment gossip columnists around world young actor says plans fritter cash away fast cars drink celebrity parties n't plan one people soon turn suddenly buy massive sports car collection something similar told australian interviewer earlier month n't think particularly extravagant things like buying things cost pounds books cds dvds radcliffe able gamble casino buy drink pub see horror film hostel part ii currently six places number one movie uk box office chart details mark landmark birthday wraps agent publicist comment plans definitely sort party said interview hopefully none reading radcliffe earnings first five potter films held trust fund able touch despite growing fame riches actor says keeping feet firmly ground people always looking say star goes rails told reporters last month try hard go way would easy latest outing boy wizard harry potter order phoenix breaking records sides atlantic reprise role last two films watch i-reporter give review potter latest life beyond potter however londoner filmed tv movie called boy jack author rudyard kipling son due release later year also appear december boys australian film four boys escape orphanage earlier year made stage debut playing tortured teenager peter shaffer equus meanwhile braced even closer media scrutiny legally adult think going sort fair game told reuters e-mail friend copyright reuters rights reserved.this material may published broadcast rewritten redistributed\n",
      "['called', 'going', 'later', 'life', 'like', 'million', 'monday', 'money', 'office', 'people', 'reported', 'say', 'says', 'think', 'told', 'watch', 'way', 'world', 'year']\n"
     ]
    }
   ],
   "source": [
    "print(clean_articles[0])\n",
    "print(all_keywords[0])"
   ]
  },
  {
   "cell_type": "code",
   "execution_count": 120,
   "id": "05ec06df-87dc-4ff7-b513-6c4a18ef93cc",
   "metadata": {},
   "outputs": [],
   "source": [
    "true_k = 20\n",
    "\n",
    "model = KMeans(\n",
    "    \n",
    "               n_clusters = true_k, \n",
    "               init = \"k-means++\", \n",
    "               max_iter = 100, \n",
    "            n_init = 1\n",
    ")\n",
    "\n",
    "model.fit(vectors)\n",
    "\n",
    "order_centroids = model.cluster_centers_.argsort()[:, ::-1]\n",
    "terms = vectorizer.get_feature_names_out()"
   ]
  },
  {
   "cell_type": "code",
   "execution_count": 121,
   "id": "efe61049-269a-4ec8-bf31-46e8b6e460d6",
   "metadata": {},
   "outputs": [],
   "source": [
    "with open (\"results.txt\", \"w\", encoding = \"utf-8\") as f:\n",
    "    for i in range(true_k):\n",
    "        f.write(f\"Cluster {i}\")\n",
    "        f.write(\"\\n\")\n",
    "        for ind in order_centroids[i, :10]:\n",
    "            f.write('%s' % terms[ind],)\n",
    "            f.write(\"\\n\")\n",
    "        f.write(\"\\n\")\n",
    "        f.write(\"\\n\")"
   ]
  },
  {
   "cell_type": "code",
   "execution_count": null,
   "id": "aca0cdec-4fee-466b-833b-bd388ba50335",
   "metadata": {},
   "outputs": [],
   "source": []
  }
 ],
 "metadata": {
  "kernelspec": {
   "display_name": "Python 3 (ipykernel)",
   "language": "python",
   "name": "python3"
  },
  "language_info": {
   "codemirror_mode": {
    "name": "ipython",
    "version": 3
   },
   "file_extension": ".py",
   "mimetype": "text/x-python",
   "name": "python",
   "nbconvert_exporter": "python",
   "pygments_lexer": "ipython3",
   "version": "3.9.18"
  }
 },
 "nbformat": 4,
 "nbformat_minor": 5
}
