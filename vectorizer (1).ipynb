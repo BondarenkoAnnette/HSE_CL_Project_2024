{
 "cells": [
  {
   "cell_type": "code",
   "execution_count": null,
   "id": "63fdb1b8-d2b8-46ed-b075-b4e0fd87d5cd",
   "metadata": {},
   "outputs": [],
   "source": [
    "from datasets import load_dataset\n",
    "\n",
    "dataset = load_dataset(\"cnn_dailymail\", '3.0.0', ignore_verifications=True)\n",
    "\n",
    "from datasets import get_dataset_split_names\n",
    "get_dataset_split_names(\"cnn_dailymail\", '3.0.0')"
   ]
  },
  {
   "cell_type": "code",
   "execution_count": null,
   "id": "da690b62-5db5-4535-b456-8cef0de7c7da",
   "metadata": {
    "scrolled": true
   },
   "outputs": [],
   "source": [
    "import pandas as pd\n",
    "import re\n",
    "\n",
    "import nltk\n",
    "nltk.download('punkt')\n",
    "from nltk.tokenize import word_tokenize\n",
    "nltk.download('universal_tagset')\n",
    "nltk.download('averaged_perceptron_tagger')\n",
    "from nltk.corpus import stopwords\n",
    "\n",
    "from sklearn.feature_extraction.text import TfidfVectorizer\n",
    "from sklearn.cluster import KMeans\n",
    "from sklearn. metrics import adjusted_rand_score\n",
    "import string"
   ]
  },
  {
   "cell_type": "code",
   "execution_count": null,
   "id": "23d3b1e0-af27-4051-934e-6b6407fa7268",
   "metadata": {},
   "outputs": [],
   "source": [
    "dataset = load_dataset(\"cnn_dailymail\", '3.0.0', split=\"train\")\n",
    "dataframe = pd.DataFrame(dataset)\n",
    "df = dataframe.loc[0:9999]\n",
    "\n",
    "articles = df[\"article\"].tolist()"
   ]
  },
  {
   "cell_type": "code",
   "execution_count": null,
   "id": "9838fcdd-bf72-411a-90cb-f6490dd0028a",
   "metadata": {
    "scrolled": true
   },
   "outputs": [],
   "source": [
    "clean_articles = []\n",
    "for article in articles:\n",
    "  text = re.sub(r\"NEW:\", \"\", article)\n",
    "  text = text.lower() # нижний регистр\n",
    "  text_list_nltk = word_tokenize(text) # токенизация\n",
    "  stop_words = stopwords.words('english')\n",
    "  text_clean = [word for word in text_list_nltk if word not in stop_words and word[0].isalpha()] # чистим от стоп-слов и пунктуации\n",
    "  text_clean = ' '.join(text_clean)\n",
    "  clean_articles.append(text_clean)"
   ]
  },
  {
   "cell_type": "code",
   "execution_count": null,
   "id": "19266b04-ce8d-4853-8212-97adf0d38bfd",
   "metadata": {},
   "outputs": [],
   "source": [
    "vectorizer = TfidfVectorizer(\n",
    "                                max_features = 100,\n",
    "                                max_df = 0.8,\n",
    "                                min_df = 5,\n",
    "                                ngram_range = (1,3),\n",
    "                                stop_words = \"english\"\n",
    "                            )"
   ]
  },
  {
   "cell_type": "code",
   "execution_count": null,
   "id": "c74f7d8a-f42a-462c-acf8-d99667f7b656",
   "metadata": {},
   "outputs": [],
   "source": [
    "vectors = vectorizer.fit_transform(clean_articles)"
   ]
  },
  {
   "cell_type": "code",
   "execution_count": null,
   "id": "ecc18f6a-a6d1-4546-9076-f4e7f37838cd",
   "metadata": {},
   "outputs": [],
   "source": [
    "feature_names = vectorizer.get_feature_names_out()\n",
    "\n",
    "dense = vectors.todense()\n",
    "denselist = dense.tolist()\n",
    "\n",
    "all_keywords = []\n",
    "\n",
    "for description in denselist:\n",
    "    x = 0\n",
    "    keywords = []\n",
    "    for word in description:\n",
    "        if word > 0:\n",
    "            keywords.append(feature_names[x])\n",
    "        x += 1\n",
    "    all_keywords.append(keywords)\n"
   ]
  },
  {
   "cell_type": "code",
   "execution_count": null,
   "id": "05ec06df-87dc-4ff7-b513-6c4a18ef93cc",
   "metadata": {},
   "outputs": [],
   "source": [
    "true_k = 20\n",
    "\n",
    "model = KMeans(\n",
    "    \n",
    "               n_clusters = true_k, \n",
    "               init = \"k-means++\", \n",
    "               max_iter = 100, \n",
    "            n_init = 1\n",
    ")\n",
    "\n",
    "model.fit(vectors)\n",
    "\n",
    "order_centroids = model.cluster_centers_.argsort()[:, ::-1]\n",
    "terms = vectorizer.get_feature_names_out()"
   ]
  },
  {
   "cell_type": "code",
   "execution_count": null,
   "id": "efe61049-269a-4ec8-bf31-46e8b6e460d6",
   "metadata": {},
   "outputs": [],
   "source": [
    "with open (\"results.txt\", \"w\", encoding = \"utf-8\") as f:\n",
    "    for i in range(true_k):\n",
    "        f.write(f\"Cluster {i}\")\n",
    "        f.write(\"\\n\")\n",
    "        for ind in order_centroids[i, :10]:\n",
    "            f.write('%s' % terms[ind],)\n",
    "            f.write(\"\\n\")\n",
    "        f.write(\"\\n\")\n",
    "        f.write(\"\\n\")"
   ]
  }
 ],
 "metadata": {
  "kernelspec": {
   "display_name": "Python 3 (ipykernel)",
   "language": "python",
   "name": "python3"
  },
  "language_info": {
   "codemirror_mode": {
    "name": "ipython",
    "version": 3
   },
   "file_extension": ".py",
   "mimetype": "text/x-python",
   "name": "python",
   "nbconvert_exporter": "python",
   "pygments_lexer": "ipython3",
   "version": "3.9.18"
  }
 },
 "nbformat": 4,
 "nbformat_minor": 5
}
